{
 "cells": [
  {
   "cell_type": "code",
   "execution_count": 16,
   "metadata": {},
   "outputs": [],
   "source": [
    "from os import listdir, rename, listdir\n",
    "from pathlib import Path\n",
    "import pathlib"
   ]
  },
  {
   "cell_type": "code",
   "execution_count": 17,
   "metadata": {},
   "outputs": [],
   "source": [
    "folder = \"../image-sorter2/10_10_2020/\"\n",
    "labels = [\"other\", \"stop\", \"right_blue\", \"right_black\", \"right_purple\", \"left_blue\", \"left_black\", \"left_purple\", \"park_yellow\", 'park_green', 'park_blue', \"park_white\", \"traffic_red\", \"traffic_yellow\", \"traffic_green\", \"speed_50_white\"]"
   ]
  },
  {
   "cell_type": "code",
   "execution_count": 22,
   "metadata": {},
   "outputs": [
    {
     "name": "stdout",
     "output_type": "stream",
     "text": [
      "Raw data: \n",
      "The total number of turning images are 5112. \n",
      "\n",
      "other: 3178 images.\n",
      "stop: 80 images.\n",
      "right_blue: 111 images.\n",
      "right_black: 114 images.\n",
      "right_purple: 47 images.\n",
      "left_blue: 397 images.\n",
      "left_black: 280 images.\n",
      "left_purple: 132 images.\n",
      "park_yellow: 25 images.\n",
      "park_green: 572 images.\n",
      "park_blue: 98 images.\n",
      "park_white: 78 images.\n",
      "traffic_red: 0 images.\n",
      "traffic_yellow: 0 images.\n",
      "traffic_green: 0 images.\n",
      "speed_50_white: 0 images.\n"
     ]
    }
   ],
   "source": [
    "print(\"Raw data: \")\n",
    "data_dir = pathlib.Path(folder)\n",
    "image_count = len(list(data_dir.glob('*/*'))) # there are some png, also some jpg\n",
    "print(\"The total number of turning images are {}. \\n\".format(image_count))\n",
    "\n",
    "for class_name in labels:\n",
    "    path = folder+\"/\" + class_name\n",
    "    image_count = len(listdir(path))\n",
    "    print(\"{}: {} images.\".format(class_name, image_count))\n"
   ]
  },
  {
   "cell_type": "code",
   "execution_count": null,
   "metadata": {},
   "outputs": [],
   "source": []
  }
 ],
 "metadata": {
  "kernelspec": {
   "display_name": "Python 3",
   "language": "python",
   "name": "python3"
  },
  "language_info": {
   "codemirror_mode": {
    "name": "ipython",
    "version": 3
   },
   "file_extension": ".py",
   "mimetype": "text/x-python",
   "name": "python",
   "nbconvert_exporter": "python",
   "pygments_lexer": "ipython3",
   "version": "3.7.3"
  }
 },
 "nbformat": 4,
 "nbformat_minor": 2
}
